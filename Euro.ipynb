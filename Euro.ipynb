{
 "cells": [
  {
   "cell_type": "code",
   "execution_count": 2,
   "metadata": {},
   "outputs": [],
   "source": [
    "import pandas as pd\n"
   ]
  },
  {
   "cell_type": "code",
   "execution_count": 3,
   "metadata": {},
   "outputs": [
    {
     "data": {
      "text/html": [
       "<div>\n",
       "<style scoped>\n",
       "    .dataframe tbody tr th:only-of-type {\n",
       "        vertical-align: middle;\n",
       "    }\n",
       "\n",
       "    .dataframe tbody tr th {\n",
       "        vertical-align: top;\n",
       "    }\n",
       "\n",
       "    .dataframe thead th {\n",
       "        text-align: right;\n",
       "    }\n",
       "</style>\n",
       "<table border=\"1\" class=\"dataframe\">\n",
       "  <thead>\n",
       "    <tr style=\"text-align: right;\">\n",
       "      <th></th>\n",
       "      <th>Name</th>\n",
       "      <th>Position</th>\n",
       "      <th>Age</th>\n",
       "      <th>Club</th>\n",
       "      <th>Height</th>\n",
       "      <th>Foot</th>\n",
       "      <th>Caps</th>\n",
       "      <th>Goals</th>\n",
       "      <th>MarketValue</th>\n",
       "      <th>Country</th>\n",
       "    </tr>\n",
       "  </thead>\n",
       "  <tbody>\n",
       "    <tr>\n",
       "      <th>0</th>\n",
       "      <td>Marc-André ter Stegen</td>\n",
       "      <td>Goalkeeper</td>\n",
       "      <td>32</td>\n",
       "      <td>FC Barcelona</td>\n",
       "      <td>187</td>\n",
       "      <td>right</td>\n",
       "      <td>40</td>\n",
       "      <td>0</td>\n",
       "      <td>28000000</td>\n",
       "      <td>Germany</td>\n",
       "    </tr>\n",
       "    <tr>\n",
       "      <th>1</th>\n",
       "      <td>Manuel Neuer</td>\n",
       "      <td>Goalkeeper</td>\n",
       "      <td>38</td>\n",
       "      <td>Bayern Munich</td>\n",
       "      <td>193</td>\n",
       "      <td>right</td>\n",
       "      <td>119</td>\n",
       "      <td>0</td>\n",
       "      <td>4000000</td>\n",
       "      <td>Germany</td>\n",
       "    </tr>\n",
       "    <tr>\n",
       "      <th>2</th>\n",
       "      <td>Oliver Baumann</td>\n",
       "      <td>Goalkeeper</td>\n",
       "      <td>34</td>\n",
       "      <td>TSG 1899 Hoffenheim</td>\n",
       "      <td>187</td>\n",
       "      <td>right</td>\n",
       "      <td>0</td>\n",
       "      <td>0</td>\n",
       "      <td>3000000</td>\n",
       "      <td>Germany</td>\n",
       "    </tr>\n",
       "    <tr>\n",
       "      <th>3</th>\n",
       "      <td>Nico Schlotterbeck</td>\n",
       "      <td>Centre-Back</td>\n",
       "      <td>24</td>\n",
       "      <td>Borussia Dortmund</td>\n",
       "      <td>191</td>\n",
       "      <td>left</td>\n",
       "      <td>12</td>\n",
       "      <td>0</td>\n",
       "      <td>40000000</td>\n",
       "      <td>Germany</td>\n",
       "    </tr>\n",
       "    <tr>\n",
       "      <th>4</th>\n",
       "      <td>Jonathan Tah</td>\n",
       "      <td>Centre-Back</td>\n",
       "      <td>28</td>\n",
       "      <td>Bayer 04 Leverkusen</td>\n",
       "      <td>195</td>\n",
       "      <td>right</td>\n",
       "      <td>25</td>\n",
       "      <td>0</td>\n",
       "      <td>30000000</td>\n",
       "      <td>Germany</td>\n",
       "    </tr>\n",
       "    <tr>\n",
       "      <th>...</th>\n",
       "      <td>...</td>\n",
       "      <td>...</td>\n",
       "      <td>...</td>\n",
       "      <td>...</td>\n",
       "      <td>...</td>\n",
       "      <td>...</td>\n",
       "      <td>...</td>\n",
       "      <td>...</td>\n",
       "      <td>...</td>\n",
       "      <td>...</td>\n",
       "    </tr>\n",
       "    <tr>\n",
       "      <th>618</th>\n",
       "      <td>Adam Hlozek</td>\n",
       "      <td>Second Striker</td>\n",
       "      <td>21</td>\n",
       "      <td>Bayer 04 Leverkusen</td>\n",
       "      <td>188</td>\n",
       "      <td>right</td>\n",
       "      <td>31</td>\n",
       "      <td>2</td>\n",
       "      <td>12000000</td>\n",
       "      <td>Czech Republic</td>\n",
       "    </tr>\n",
       "    <tr>\n",
       "      <th>619</th>\n",
       "      <td>Patrik Schick</td>\n",
       "      <td>Centre-Forward</td>\n",
       "      <td>28</td>\n",
       "      <td>Bayer 04 Leverkusen</td>\n",
       "      <td>191</td>\n",
       "      <td>left</td>\n",
       "      <td>37</td>\n",
       "      <td>18</td>\n",
       "      <td>22000000</td>\n",
       "      <td>Czech Republic</td>\n",
       "    </tr>\n",
       "    <tr>\n",
       "      <th>620</th>\n",
       "      <td>Mojmír Chytil</td>\n",
       "      <td>Centre-Forward</td>\n",
       "      <td>25</td>\n",
       "      <td>SK Slavia Prague</td>\n",
       "      <td>187</td>\n",
       "      <td>-</td>\n",
       "      <td>12</td>\n",
       "      <td>4</td>\n",
       "      <td>6500000</td>\n",
       "      <td>Czech Republic</td>\n",
       "    </tr>\n",
       "    <tr>\n",
       "      <th>621</th>\n",
       "      <td>Jan Kuchta</td>\n",
       "      <td>Centre-Forward</td>\n",
       "      <td>27</td>\n",
       "      <td>AC Sparta Prague</td>\n",
       "      <td>185</td>\n",
       "      <td>right</td>\n",
       "      <td>20</td>\n",
       "      <td>3</td>\n",
       "      <td>5000000</td>\n",
       "      <td>Czech Republic</td>\n",
       "    </tr>\n",
       "    <tr>\n",
       "      <th>622</th>\n",
       "      <td>Tomas Chory</td>\n",
       "      <td>Centre-Forward</td>\n",
       "      <td>29</td>\n",
       "      <td>FC Viktoria Plzen</td>\n",
       "      <td>199</td>\n",
       "      <td>right</td>\n",
       "      <td>3</td>\n",
       "      <td>2</td>\n",
       "      <td>3200000</td>\n",
       "      <td>Czech Republic</td>\n",
       "    </tr>\n",
       "  </tbody>\n",
       "</table>\n",
       "<p>623 rows × 10 columns</p>\n",
       "</div>"
      ],
      "text/plain": [
       "                      Name        Position  Age                 Club  Height  \\\n",
       "0    Marc-André ter Stegen      Goalkeeper   32         FC Barcelona     187   \n",
       "1             Manuel Neuer      Goalkeeper   38        Bayern Munich     193   \n",
       "2           Oliver Baumann      Goalkeeper   34  TSG 1899 Hoffenheim     187   \n",
       "3       Nico Schlotterbeck     Centre-Back   24    Borussia Dortmund     191   \n",
       "4             Jonathan Tah     Centre-Back   28  Bayer 04 Leverkusen     195   \n",
       "..                     ...             ...  ...                  ...     ...   \n",
       "618            Adam Hlozek  Second Striker   21  Bayer 04 Leverkusen     188   \n",
       "619          Patrik Schick  Centre-Forward   28  Bayer 04 Leverkusen     191   \n",
       "620          Mojmír Chytil  Centre-Forward   25     SK Slavia Prague     187   \n",
       "621             Jan Kuchta  Centre-Forward   27     AC Sparta Prague     185   \n",
       "622            Tomas Chory  Centre-Forward   29    FC Viktoria Plzen     199   \n",
       "\n",
       "      Foot  Caps  Goals  MarketValue         Country  \n",
       "0    right    40      0     28000000         Germany  \n",
       "1    right   119      0      4000000         Germany  \n",
       "2    right     0      0      3000000         Germany  \n",
       "3     left    12      0     40000000         Germany  \n",
       "4    right    25      0     30000000         Germany  \n",
       "..     ...   ...    ...          ...             ...  \n",
       "618  right    31      2     12000000  Czech Republic  \n",
       "619   left    37     18     22000000  Czech Republic  \n",
       "620      -    12      4      6500000  Czech Republic  \n",
       "621  right    20      3      5000000  Czech Republic  \n",
       "622  right     3      2      3200000  Czech Republic  \n",
       "\n",
       "[623 rows x 10 columns]"
      ]
     },
     "execution_count": 3,
     "metadata": {},
     "output_type": "execute_result"
    }
   ],
   "source": [
    "EURO = pd.read_csv('euro2024_players.csv')\n",
    "EURO"
   ]
  },
  {
   "cell_type": "code",
   "execution_count": 4,
   "metadata": {},
   "outputs": [
    {
     "data": {
      "text/plain": [
       "0      Marc-André ter Stegen\n",
       "1               Manuel Neuer\n",
       "2             Oliver Baumann\n",
       "3         Nico Schlotterbeck\n",
       "4               Jonathan Tah\n",
       "               ...          \n",
       "618              Adam Hlozek\n",
       "619            Patrik Schick\n",
       "620            Mojmír Chytil\n",
       "621               Jan Kuchta\n",
       "622              Tomas Chory\n",
       "Name: Name, Length: 623, dtype: object"
      ]
     },
     "execution_count": 4,
     "metadata": {},
     "output_type": "execute_result"
    }
   ],
   "source": [
    "name =EURO['Name']\n",
    "name"
   ]
  },
  {
   "cell_type": "code",
   "execution_count": 5,
   "metadata": {},
   "outputs": [
    {
     "data": {
      "text/plain": [
       "0          Goalkeeper\n",
       "1          Goalkeeper\n",
       "2          Goalkeeper\n",
       "3         Centre-Back\n",
       "4         Centre-Back\n",
       "            ...      \n",
       "618    Second Striker\n",
       "619    Centre-Forward\n",
       "620    Centre-Forward\n",
       "621    Centre-Forward\n",
       "622    Centre-Forward\n",
       "Name: Position, Length: 623, dtype: object"
      ]
     },
     "execution_count": 5,
     "metadata": {},
     "output_type": "execute_result"
    }
   ],
   "source": [
    "position = EURO['Position']\n",
    "position"
   ]
  },
  {
   "cell_type": "code",
   "execution_count": 6,
   "metadata": {},
   "outputs": [
    {
     "data": {
      "text/plain": [
       "0      32\n",
       "1      38\n",
       "2      34\n",
       "3      24\n",
       "4      28\n",
       "       ..\n",
       "618    21\n",
       "619    28\n",
       "620    25\n",
       "621    27\n",
       "622    29\n",
       "Name: Age, Length: 623, dtype: int64"
      ]
     },
     "execution_count": 6,
     "metadata": {},
     "output_type": "execute_result"
    }
   ],
   "source": [
    "age = EURO['Age']\n",
    "age"
   ]
  },
  {
   "cell_type": "code",
   "execution_count": 7,
   "metadata": {},
   "outputs": [
    {
     "data": {
      "text/plain": [
       "0             FC Barcelona\n",
       "1            Bayern Munich\n",
       "2      TSG 1899 Hoffenheim\n",
       "3        Borussia Dortmund\n",
       "4      Bayer 04 Leverkusen\n",
       "              ...         \n",
       "618    Bayer 04 Leverkusen\n",
       "619    Bayer 04 Leverkusen\n",
       "620       SK Slavia Prague\n",
       "621       AC Sparta Prague\n",
       "622      FC Viktoria Plzen\n",
       "Name: Club, Length: 623, dtype: object"
      ]
     },
     "execution_count": 7,
     "metadata": {},
     "output_type": "execute_result"
    }
   ],
   "source": [
    "club = EURO['Club']\n",
    "club"
   ]
  },
  {
   "cell_type": "code",
   "execution_count": 8,
   "metadata": {},
   "outputs": [
    {
     "data": {
      "text/plain": [
       "0      187\n",
       "1      193\n",
       "2      187\n",
       "3      191\n",
       "4      195\n",
       "      ... \n",
       "618    188\n",
       "619    191\n",
       "620    187\n",
       "621    185\n",
       "622    199\n",
       "Name: Height, Length: 623, dtype: int64"
      ]
     },
     "execution_count": 8,
     "metadata": {},
     "output_type": "execute_result"
    }
   ],
   "source": [
    "height = EURO['Height']\n",
    "height"
   ]
  },
  {
   "cell_type": "code",
   "execution_count": 9,
   "metadata": {},
   "outputs": [
    {
     "data": {
      "text/plain": [
       "0      right\n",
       "1      right\n",
       "2      right\n",
       "3       left\n",
       "4      right\n",
       "       ...  \n",
       "618    right\n",
       "619     left\n",
       "620        -\n",
       "621    right\n",
       "622    right\n",
       "Name: Foot, Length: 623, dtype: object"
      ]
     },
     "execution_count": 9,
     "metadata": {},
     "output_type": "execute_result"
    }
   ],
   "source": [
    "foot = EURO['Foot']\n",
    "foot"
   ]
  },
  {
   "cell_type": "code",
   "execution_count": 10,
   "metadata": {},
   "outputs": [
    {
     "data": {
      "text/plain": [
       "0       0\n",
       "1       0\n",
       "2       0\n",
       "3       0\n",
       "4       0\n",
       "       ..\n",
       "618     2\n",
       "619    18\n",
       "620     4\n",
       "621     3\n",
       "622     2\n",
       "Name: Goals, Length: 623, dtype: int64"
      ]
     },
     "execution_count": 10,
     "metadata": {},
     "output_type": "execute_result"
    }
   ],
   "source": [
    "caps = EURO['Goals']\n",
    "caps"
   ]
  },
  {
   "cell_type": "code",
   "execution_count": 11,
   "metadata": {},
   "outputs": [
    {
     "data": {
      "text/plain": [
       "0      28000000\n",
       "1       4000000\n",
       "2       3000000\n",
       "3      40000000\n",
       "4      30000000\n",
       "         ...   \n",
       "618    12000000\n",
       "619    22000000\n",
       "620     6500000\n",
       "621     5000000\n",
       "622     3200000\n",
       "Name: MarketValue, Length: 623, dtype: int64"
      ]
     },
     "execution_count": 11,
     "metadata": {},
     "output_type": "execute_result"
    }
   ],
   "source": [
    "market = EURO['MarketValue']\n",
    "market"
   ]
  },
  {
   "cell_type": "code",
   "execution_count": 12,
   "metadata": {},
   "outputs": [
    {
     "data": {
      "text/plain": [
       "0             Germany\n",
       "1             Germany\n",
       "2             Germany\n",
       "3             Germany\n",
       "4             Germany\n",
       "            ...      \n",
       "618    Czech Republic\n",
       "619    Czech Republic\n",
       "620    Czech Republic\n",
       "621    Czech Republic\n",
       "622    Czech Republic\n",
       "Name: Country, Length: 623, dtype: object"
      ]
     },
     "execution_count": 12,
     "metadata": {},
     "output_type": "execute_result"
    }
   ],
   "source": [
    "countrys = EURO['Country']\n",
    "countrys"
   ]
  },
  {
   "cell_type": "code",
   "execution_count": 13,
   "metadata": {},
   "outputs": [],
   "source": [
    "EURO.to_excel('EURO.xlsx', sheet_name= 'Name', index=False)"
   ]
  },
  {
   "cell_type": "code",
   "execution_count": 14,
   "metadata": {},
   "outputs": [],
   "source": [
    "EURO = pd.read_excel('EURO.xlsx', sheet_name= 'Name')"
   ]
  }
 ],
 "metadata": {
  "kernelspec": {
   "display_name": "Python 3",
   "language": "python",
   "name": "python3"
  },
  "language_info": {
   "codemirror_mode": {
    "name": "ipython",
    "version": 3
   },
   "file_extension": ".py",
   "mimetype": "text/x-python",
   "name": "python",
   "nbconvert_exporter": "python",
   "pygments_lexer": "ipython3",
   "version": "3.12.1"
  }
 },
 "nbformat": 4,
 "nbformat_minor": 2
}
